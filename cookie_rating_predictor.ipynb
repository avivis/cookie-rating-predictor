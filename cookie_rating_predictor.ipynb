{
  "nbformat": 4,
  "nbformat_minor": 0,
  "metadata": {
    "colab": {
      "name": "cookie-rating-predictor.ipynb",
      "provenance": [],
      "authorship_tag": "ABX9TyM26XG0w0q+iKAXfk2ha1YQ",
      "include_colab_link": true
    },
    "kernelspec": {
      "name": "python3",
      "display_name": "Python 3"
    },
    "language_info": {
      "name": "python"
    }
  },
  "cells": [
    {
      "cell_type": "markdown",
      "metadata": {
        "id": "view-in-github",
        "colab_type": "text"
      },
      "source": [
        "<a href=\"https://colab.research.google.com/github/avivis/cookie-rating-predictor/blob/main/cookie_rating_predictor.ipynb\" target=\"_parent\"><img src=\"https://colab.research.google.com/assets/colab-badge.svg\" alt=\"Open In Colab\"/></a>"
      ]
    },
    {
      "cell_type": "markdown",
      "source": [
        "**This is a multiple linear regression model predicting the allrecipes.com rating (on a scale of 3 to 5) of a chocolate chip cookie recipe based on the ratio of various ingredients (fat (oil, butter, etc.), sugar, brown sugar, eggs, vanilla extract, all purpose flour, baking soda, salt, and chocolate chips) in the recipe.**"
      ],
      "metadata": {
        "id": "ihYt5LudUnVP"
      }
    },
    {
      "cell_type": "code",
      "execution_count": 26,
      "metadata": {
        "id": "nkpS3m_9SHCT"
      },
      "outputs": [],
      "source": [
        "#importing libraries\n",
        "import numpy as np\n",
        "import pandas as pd\n",
        "from numpy import math\n",
        "\n",
        "from sklearn.model_selection import train_test_split\n",
        "from sklearn.linear_model import LinearRegression\n",
        "\n",
        "import matplotlib.pyplot as plt"
      ]
    },
    {
      "cell_type": "markdown",
      "source": [
        "First, we import the dataset. \n",
        "\n",
        "I created this dataset by finding allrecipes.com chocolate chip cookie recipes and writing down the measurements of fat (oil/butter, etc.), sugar, brown sugar, egg, vanilla extract, flour, baking soda, salt, chocolate chips, etc. in the recipe. I made sure to only use recipes that are for regular chocolate chip cookies (not peanut butter chocolate chip, toffee chocolate chip, etc.) to avoid the ratios of the ingredients I was recording being skewed by the ingredients I wasn't and made sure to only use recipes with over 10 reviews. I couldn't find recipes with less than 3 stars and more than 10 reviews, so I kept the output scale of the model between 3 and 5. I made sure the number of recipes I found data for for each rating group (3/3.5, 4/4.5, 5) was constant as to not skew the model.\n",
        "\n",
        "After getting all the measurements down, I needed to standardize the unit. Most of the measurements were already in cups, so I converted them all to cups by multiplying teaspoon measurements by 0.02 and egg measurements by 0.2.\n",
        "\n",
        "Then, I ran a script to scale the data from cup measurements to proportion of the recipe, making sure all the rows added up to 1."
      ],
      "metadata": {
        "id": "80hyoKGxVQbL"
      }
    },
    {
      "cell_type": "code",
      "source": [
        "#importing the dataset\n",
        "dataset = pd.read_csv('cookiesheet.csv')"
      ],
      "metadata": {
        "id": "chKHViizSOcK"
      },
      "execution_count": 2,
      "outputs": []
    },
    {
      "cell_type": "markdown",
      "source": [
        "Here's what some of the dataset looks like after the scaling."
      ],
      "metadata": {
        "id": "qSOej9adWuGD"
      }
    },
    {
      "cell_type": "code",
      "source": [
        "dataset.head()"
      ],
      "metadata": {
        "colab": {
          "base_uri": "https://localhost:8080/",
          "height": 206
        },
        "id": "3dO-3UMpSVRr",
        "outputId": "1c92d377-90a9-4742-d68f-fb174db0da03"
      },
      "execution_count": 3,
      "outputs": [
        {
          "output_type": "execute_result",
          "data": {
            "text/plain": [
              "        fat     sugar  brown sugar       egg  vanilla extract     flour  \\\n",
              "0  0.255977  0.127989     0.127989  0.051195         0.005120  0.255977   \n",
              "1  0.109572  0.146082     0.164358  0.043829         0.000000  0.383503   \n",
              "2  0.075226  0.100292     0.150453  0.060181         0.006018  0.300906   \n",
              "3  0.140978  0.105734     0.105734  0.028196         0.002820  0.328944   \n",
              "4  0.167364  0.167364     0.167364  0.066946         0.006695  0.251046   \n",
              "\n",
              "   baking soda      salt  choc chips  rating  \n",
              "0     0.002560  0.002560    0.170650     3.0  \n",
              "1     0.004383  0.002191    0.146082     3.0  \n",
              "2     0.003009  0.003009    0.300906     3.0  \n",
              "3     0.002820  0.002820    0.281956     3.0  \n",
              "4     0.003347  0.002510    0.167364     3.0  "
            ],
            "text/html": [
              "\n",
              "  <div id=\"df-e75eda19-d1d6-43c9-a102-430e2d859c9b\">\n",
              "    <div class=\"colab-df-container\">\n",
              "      <div>\n",
              "<style scoped>\n",
              "    .dataframe tbody tr th:only-of-type {\n",
              "        vertical-align: middle;\n",
              "    }\n",
              "\n",
              "    .dataframe tbody tr th {\n",
              "        vertical-align: top;\n",
              "    }\n",
              "\n",
              "    .dataframe thead th {\n",
              "        text-align: right;\n",
              "    }\n",
              "</style>\n",
              "<table border=\"1\" class=\"dataframe\">\n",
              "  <thead>\n",
              "    <tr style=\"text-align: right;\">\n",
              "      <th></th>\n",
              "      <th>fat</th>\n",
              "      <th>sugar</th>\n",
              "      <th>brown sugar</th>\n",
              "      <th>egg</th>\n",
              "      <th>vanilla extract</th>\n",
              "      <th>flour</th>\n",
              "      <th>baking soda</th>\n",
              "      <th>salt</th>\n",
              "      <th>choc chips</th>\n",
              "      <th>rating</th>\n",
              "    </tr>\n",
              "  </thead>\n",
              "  <tbody>\n",
              "    <tr>\n",
              "      <th>0</th>\n",
              "      <td>0.255977</td>\n",
              "      <td>0.127989</td>\n",
              "      <td>0.127989</td>\n",
              "      <td>0.051195</td>\n",
              "      <td>0.005120</td>\n",
              "      <td>0.255977</td>\n",
              "      <td>0.002560</td>\n",
              "      <td>0.002560</td>\n",
              "      <td>0.170650</td>\n",
              "      <td>3.0</td>\n",
              "    </tr>\n",
              "    <tr>\n",
              "      <th>1</th>\n",
              "      <td>0.109572</td>\n",
              "      <td>0.146082</td>\n",
              "      <td>0.164358</td>\n",
              "      <td>0.043829</td>\n",
              "      <td>0.000000</td>\n",
              "      <td>0.383503</td>\n",
              "      <td>0.004383</td>\n",
              "      <td>0.002191</td>\n",
              "      <td>0.146082</td>\n",
              "      <td>3.0</td>\n",
              "    </tr>\n",
              "    <tr>\n",
              "      <th>2</th>\n",
              "      <td>0.075226</td>\n",
              "      <td>0.100292</td>\n",
              "      <td>0.150453</td>\n",
              "      <td>0.060181</td>\n",
              "      <td>0.006018</td>\n",
              "      <td>0.300906</td>\n",
              "      <td>0.003009</td>\n",
              "      <td>0.003009</td>\n",
              "      <td>0.300906</td>\n",
              "      <td>3.0</td>\n",
              "    </tr>\n",
              "    <tr>\n",
              "      <th>3</th>\n",
              "      <td>0.140978</td>\n",
              "      <td>0.105734</td>\n",
              "      <td>0.105734</td>\n",
              "      <td>0.028196</td>\n",
              "      <td>0.002820</td>\n",
              "      <td>0.328944</td>\n",
              "      <td>0.002820</td>\n",
              "      <td>0.002820</td>\n",
              "      <td>0.281956</td>\n",
              "      <td>3.0</td>\n",
              "    </tr>\n",
              "    <tr>\n",
              "      <th>4</th>\n",
              "      <td>0.167364</td>\n",
              "      <td>0.167364</td>\n",
              "      <td>0.167364</td>\n",
              "      <td>0.066946</td>\n",
              "      <td>0.006695</td>\n",
              "      <td>0.251046</td>\n",
              "      <td>0.003347</td>\n",
              "      <td>0.002510</td>\n",
              "      <td>0.167364</td>\n",
              "      <td>3.0</td>\n",
              "    </tr>\n",
              "  </tbody>\n",
              "</table>\n",
              "</div>\n",
              "      <button class=\"colab-df-convert\" onclick=\"convertToInteractive('df-e75eda19-d1d6-43c9-a102-430e2d859c9b')\"\n",
              "              title=\"Convert this dataframe to an interactive table.\"\n",
              "              style=\"display:none;\">\n",
              "        \n",
              "  <svg xmlns=\"http://www.w3.org/2000/svg\" height=\"24px\"viewBox=\"0 0 24 24\"\n",
              "       width=\"24px\">\n",
              "    <path d=\"M0 0h24v24H0V0z\" fill=\"none\"/>\n",
              "    <path d=\"M18.56 5.44l.94 2.06.94-2.06 2.06-.94-2.06-.94-.94-2.06-.94 2.06-2.06.94zm-11 1L8.5 8.5l.94-2.06 2.06-.94-2.06-.94L8.5 2.5l-.94 2.06-2.06.94zm10 10l.94 2.06.94-2.06 2.06-.94-2.06-.94-.94-2.06-.94 2.06-2.06.94z\"/><path d=\"M17.41 7.96l-1.37-1.37c-.4-.4-.92-.59-1.43-.59-.52 0-1.04.2-1.43.59L10.3 9.45l-7.72 7.72c-.78.78-.78 2.05 0 2.83L4 21.41c.39.39.9.59 1.41.59.51 0 1.02-.2 1.41-.59l7.78-7.78 2.81-2.81c.8-.78.8-2.07 0-2.86zM5.41 20L4 18.59l7.72-7.72 1.47 1.35L5.41 20z\"/>\n",
              "  </svg>\n",
              "      </button>\n",
              "      \n",
              "  <style>\n",
              "    .colab-df-container {\n",
              "      display:flex;\n",
              "      flex-wrap:wrap;\n",
              "      gap: 12px;\n",
              "    }\n",
              "\n",
              "    .colab-df-convert {\n",
              "      background-color: #E8F0FE;\n",
              "      border: none;\n",
              "      border-radius: 50%;\n",
              "      cursor: pointer;\n",
              "      display: none;\n",
              "      fill: #1967D2;\n",
              "      height: 32px;\n",
              "      padding: 0 0 0 0;\n",
              "      width: 32px;\n",
              "    }\n",
              "\n",
              "    .colab-df-convert:hover {\n",
              "      background-color: #E2EBFA;\n",
              "      box-shadow: 0px 1px 2px rgba(60, 64, 67, 0.3), 0px 1px 3px 1px rgba(60, 64, 67, 0.15);\n",
              "      fill: #174EA6;\n",
              "    }\n",
              "\n",
              "    [theme=dark] .colab-df-convert {\n",
              "      background-color: #3B4455;\n",
              "      fill: #D2E3FC;\n",
              "    }\n",
              "\n",
              "    [theme=dark] .colab-df-convert:hover {\n",
              "      background-color: #434B5C;\n",
              "      box-shadow: 0px 1px 3px 1px rgba(0, 0, 0, 0.15);\n",
              "      filter: drop-shadow(0px 1px 2px rgba(0, 0, 0, 0.3));\n",
              "      fill: #FFFFFF;\n",
              "    }\n",
              "  </style>\n",
              "\n",
              "      <script>\n",
              "        const buttonEl =\n",
              "          document.querySelector('#df-e75eda19-d1d6-43c9-a102-430e2d859c9b button.colab-df-convert');\n",
              "        buttonEl.style.display =\n",
              "          google.colab.kernel.accessAllowed ? 'block' : 'none';\n",
              "\n",
              "        async function convertToInteractive(key) {\n",
              "          const element = document.querySelector('#df-e75eda19-d1d6-43c9-a102-430e2d859c9b');\n",
              "          const dataTable =\n",
              "            await google.colab.kernel.invokeFunction('convertToInteractive',\n",
              "                                                     [key], {});\n",
              "          if (!dataTable) return;\n",
              "\n",
              "          const docLinkHtml = 'Like what you see? Visit the ' +\n",
              "            '<a target=\"_blank\" href=https://colab.research.google.com/notebooks/data_table.ipynb>data table notebook</a>'\n",
              "            + ' to learn more about interactive tables.';\n",
              "          element.innerHTML = '';\n",
              "          dataTable['output_type'] = 'display_data';\n",
              "          await google.colab.output.renderOutput(dataTable, element);\n",
              "          const docLink = document.createElement('div');\n",
              "          docLink.innerHTML = docLinkHtml;\n",
              "          element.appendChild(docLink);\n",
              "        }\n",
              "      </script>\n",
              "    </div>\n",
              "  </div>\n",
              "  "
            ]
          },
          "metadata": {},
          "execution_count": 3
        }
      ]
    },
    {
      "cell_type": "markdown",
      "source": [
        "Now, I am defining the dependent and independent variables of the model, the dependent variable being the recipe rating and the independent variables being the ratios of the various ingredients."
      ],
      "metadata": {
        "id": "z0G3fXjUW5vJ"
      }
    },
    {
      "cell_type": "code",
      "source": [
        "#setting the dv to rating\n",
        "dependent_variable = 'rating'"
      ],
      "metadata": {
        "id": "DlOC7wEpSY0j"
      },
      "execution_count": 4,
      "outputs": []
    },
    {
      "cell_type": "code",
      "source": [
        "#setting the ivs to everything else\n",
        "independent_variables = dataset.columns.tolist()\n",
        "independent_variables.remove(dependent_variable)\n",
        "independent_variables"
      ],
      "metadata": {
        "colab": {
          "base_uri": "https://localhost:8080/"
        },
        "id": "bTVXODzuSgFL",
        "outputId": "1286e122-f85f-430f-8df5-5a4feab995a3"
      },
      "execution_count": 27,
      "outputs": [
        {
          "output_type": "execute_result",
          "data": {
            "text/plain": [
              "['fat',\n",
              " 'sugar',\n",
              " 'brown sugar',\n",
              " 'egg',\n",
              " 'vanilla extract',\n",
              " 'flour',\n",
              " 'baking soda',\n",
              " 'salt',\n",
              " 'choc chips']"
            ]
          },
          "metadata": {},
          "execution_count": 27
        }
      ]
    },
    {
      "cell_type": "markdown",
      "source": [
        "Now, it's time to train the model and fit the Linear Regression. I did a 20:80 testing group:training group split."
      ],
      "metadata": {
        "id": "Gwv485M6XWhU"
      }
    },
    {
      "cell_type": "code",
      "source": [
        "X = dataset[independent_variables].values\n",
        "y = dataset[dependent_variable].values"
      ],
      "metadata": {
        "id": "Q2QKxYFySm20"
      },
      "execution_count": 17,
      "outputs": []
    },
    {
      "cell_type": "code",
      "source": [
        "X_train, X_test, y_train, y_test, = train_test_split(X, y, test_size = 0.2, random_state = 0)"
      ],
      "metadata": {
        "id": "L3h4ZezbSrHi"
      },
      "execution_count": 18,
      "outputs": []
    },
    {
      "cell_type": "code",
      "source": [
        "X_train[0:10]"
      ],
      "metadata": {
        "colab": {
          "base_uri": "https://localhost:8080/"
        },
        "id": "ICjR5EwlSxoB",
        "outputId": "1c09672e-b2af-4c02-a03d-9e090b799717"
      },
      "execution_count": 19,
      "outputs": [
        {
          "output_type": "execute_result",
          "data": {
            "text/plain": [
              "array([[0.07522643, 0.10029188, 0.15045286, 0.06018115, 0.00601811,\n",
              "        0.30090573, 0.00300906, 0.00300906, 0.30090573],\n",
              "       [0.16492669, 0.08246335, 0.12369502, 0.06597068, 0.00824633,\n",
              "        0.32985338, 0.00329853, 0.00164927, 0.21989676],\n",
              "       [0.1607717 , 0.12057878, 0.12057878, 0.06430868, 0.00643087,\n",
              "        0.36173633, 0.00321543, 0.00160772, 0.1607717 ],\n",
              "       [0.1344086 , 0.10080645, 0.10080645, 0.05376344, 0.00268817,\n",
              "        0.30241935, 0.00268817, 0.03360215, 0.2688172 ],\n",
              "       [0.13066293, 0.05806661, 0.13066293, 0.03484345, 0.00348434,\n",
              "        0.29036091, 0.00174217, 0.00174217, 0.34843448],\n",
              "       [0.15479876, 0.07739938, 0.15479876, 0.0619195 , 0.00309598,\n",
              "        0.23219814, 0.00309598, 0.00309598, 0.30959752],\n",
              "       [0.27901786, 0.05580357, 0.11160714, 0.04464286, 0.00446429,\n",
              "        0.27901786, 0.00223214, 0.        , 0.22321429],\n",
              "       [0.15432099, 0.07716049, 0.15432099, 0.0617284 , 0.00617284,\n",
              "        0.38580247, 0.00308642, 0.00308642, 0.15432099],\n",
              "       [0.15923567, 0.15923567, 0.15923567, 0.03184713, 0.00636943,\n",
              "        0.31847134, 0.00318471, 0.00318471, 0.15923567],\n",
              "       [0.10729614, 0.10729614, 0.10729614, 0.0286123 , 0.00286123,\n",
              "        0.35765379, 0.00286123, 0.        , 0.28612303]])"
            ]
          },
          "metadata": {},
          "execution_count": 19
        }
      ]
    },
    {
      "cell_type": "code",
      "source": [
        "regressor = LinearRegression()\n",
        "regressor.fit(X_train, y_train)"
      ],
      "metadata": {
        "colab": {
          "base_uri": "https://localhost:8080/"
        },
        "id": "HAp9EclsS1tY",
        "outputId": "663aff1f-34ab-4764-8c14-de54913ae514"
      },
      "execution_count": 28,
      "outputs": [
        {
          "output_type": "execute_result",
          "data": {
            "text/plain": [
              "LinearRegression()"
            ]
          },
          "metadata": {},
          "execution_count": 28
        }
      ]
    },
    {
      "cell_type": "markdown",
      "source": [
        "Now that we have our model, we can input our testing group."
      ],
      "metadata": {
        "id": "KSzwz2_YX5hW"
      }
    },
    {
      "cell_type": "code",
      "source": [
        "#these are the true ratings of our testing group inputs\n",
        "y_test"
      ],
      "metadata": {
        "colab": {
          "base_uri": "https://localhost:8080/"
        },
        "id": "uKlSg1cLTe9S",
        "outputId": "44ae513b-d691-4688-8d32-328a1e99dd19"
      },
      "execution_count": 29,
      "outputs": [
        {
          "output_type": "execute_result",
          "data": {
            "text/plain": [
              "array([4. , 4. , 4. , 3.5, 5. , 4.5, 4. , 3.5])"
            ]
          },
          "metadata": {},
          "execution_count": 29
        }
      ]
    },
    {
      "cell_type": "code",
      "source": [
        "#this is my model's prediction given the testing group inputs\n",
        "y_pred = regressor.predict(X_test)\n",
        "y_pred"
      ],
      "metadata": {
        "colab": {
          "base_uri": "https://localhost:8080/"
        },
        "id": "wImD9x1HTM_y",
        "outputId": "7c93a264-da87-4a94-e7a8-6d702caf3a57"
      },
      "execution_count": 30,
      "outputs": [
        {
          "output_type": "execute_result",
          "data": {
            "text/plain": [
              "array([3.17670885, 4.09507255, 3.67174102, 4.20810311, 4.13360872,\n",
              "       5.09609026, 4.8684483 , 3.73154549])"
            ]
          },
          "metadata": {},
          "execution_count": 30
        }
      ]
    },
    {
      "cell_type": "markdown",
      "source": [
        "Here's a written-out mapping of the actual ratings of the recipes with the model's respective predictions (actual --> predicted):\n",
        "\n",
        "*   **4 -> 3.17**\n",
        "*   **4 -> 4.09**\n",
        "*   **4 -> 3.67**\n",
        "*   **3.5 -> 4.2**\n",
        "*   **5 -> 4.13**\n",
        "*   **4.5 -> 5.09**\n",
        "*   **4 -> 4.8**\n",
        "*   **3.5 -> 3.7**\n",
        "\n",
        "\n",
        "This model isn't perfect by any means, but it does make some interestingly close predictions. I think a variety of things could improve this model. Here are a few:\n",
        "\n",
        "*   way more recipe data\n",
        "*   recipe data for recipes with ratings under 3 stars\n",
        "*   more recipe data from recipes with minimal to no ingredients that are not independent variables (eg. cinnamon, almond extract, etc.)\n",
        "\n",
        "\n",
        "\n",
        "\n",
        "\n",
        "\n",
        "\n",
        "\n",
        "\n"
      ],
      "metadata": {
        "id": "0bhpKKfaZysM"
      }
    }
  ]
}